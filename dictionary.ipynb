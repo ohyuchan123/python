{
 "cells": [
  {
   "cell_type": "markdown",
   "id": "8b951bc5",
   "metadata": {},
   "source": [
    "# dictionary\n",
    "### {key : value}\n"
   ]
  },
  {
   "cell_type": "code",
   "execution_count": 8,
   "id": "633783ce",
   "metadata": {},
   "outputs": [
    {
     "name": "stdout",
     "output_type": "stream",
     "text": [
      "{'Oh': 1, 'Yu': 2, 'Chan': 3}\n",
      "1 2 3\n"
     ]
    }
   ],
   "source": [
    "a={'Oh':1,'Yu':2,'Chan':3}\n",
    "print(a)\n",
    "print(a['Oh'],a['Yu'],a['Chan'])"
   ]
  },
  {
   "cell_type": "markdown",
   "id": "c6f222d4",
   "metadata": {},
   "source": [
    "# list의 경우"
   ]
  },
  {
   "cell_type": "code",
   "execution_count": 12,
   "id": "21cdd2db",
   "metadata": {},
   "outputs": [
    {
     "name": "stdout",
     "output_type": "stream",
     "text": [
      "2\n",
      "4\n"
     ]
    }
   ],
   "source": [
    "b=[1,2,3,4,5]\n",
    "print(b[1]) #2\n",
    "print(b[3]) #4"
   ]
  },
  {
   "cell_type": "markdown",
   "id": "54b7658e",
   "metadata": {},
   "source": [
    "# 리스트의 인덱스 번호가, 딕셔너리의 key와 동일한 역할을 하는 것은 아닐까?"
   ]
  },
  {
   "cell_type": "code",
   "execution_count": 17,
   "id": "5cb6ff4a",
   "metadata": {},
   "outputs": [
    {
     "name": "stdout",
     "output_type": "stream",
     "text": [
      "['a,', 'b', 'c', 'e'] e\n"
     ]
    }
   ],
   "source": [
    "a=['a,','b','c','d','e']\n",
    "a.__delitem__(3)\n",
    "print(a,a[3])"
   ]
  },
  {
   "cell_type": "markdown",
   "id": "11a607f3",
   "metadata": {},
   "source": [
    "## 해쉬 테이블 용어\n",
    "1. hash : 임의 값을 고정 길이로 변환하는 것\n",
    "2. hash table : 키 값의 연산에 의해 직접 접근이 가능한 데이터 구조\n",
    "3. hash function(함수) : key에 의해 산술 연산을 이용해서 데이터 위치(value)를 찾을 수 있는 구조\n",
    "4. hash address(주소) : key를 해쉬 함수ㅡ로 연산해서 해쉬 값을 알아내고, 이를 기반으로 해쉬 테이블에서 \n",
    "해당 키에 대한 데이터 위치를 일관적으로 찾을 수 있음"
   ]
  },
  {
   "cell_type": "markdown",
   "id": "6c0cc8aa",
   "metadata": {},
   "source": [
    "## 해쉬 테이블 시나리오\n",
    "1. 사용자가 key값을 입력\n",
    "2. 해쉬 함수를 이용하여 key값을 hash 주소로 변환\n",
    "3. 해쉬 주소(인덱스)를 통해 value를 구함"
   ]
  },
  {
   "cell_type": "markdown",
   "id": "a5c6ffaf",
   "metadata": {},
   "source": [
    "## list comprehension(리스트 컴프리헨션)"
   ]
  },
  {
   "cell_type": "code",
   "execution_count": 22,
   "id": "0f8e0913",
   "metadata": {},
   "outputs": [
    {
     "name": "stdout",
     "output_type": "stream",
     "text": [
      "[0, 1, 2, 3, 4, 5, 6, 7, 8, 9]\n"
     ]
    }
   ],
   "source": [
    "# for문을 사용해서  list와 그 안의 요소를 구현하기\n",
    "a=list() #[]\n",
    "for i in range(10):\n",
    "    a.append(i)\n",
    "print(a)"
   ]
  },
  {
   "cell_type": "code",
   "execution_count": 25,
   "id": "d4c39633",
   "metadata": {},
   "outputs": [
    {
     "name": "stdout",
     "output_type": "stream",
     "text": [
      "[0, 0, 0, 0, 0, 0, 0, 0, 0, 0]\n"
     ]
    }
   ],
   "source": [
    "#리스트 컴프리ㅣ헨션을 써서 구현하기\n",
    "hash_table=list([0 for i in range(10)])\n",
    "print(hash_table)"
   ]
  },
  {
   "cell_type": "code",
   "execution_count": 27,
   "id": "14607706",
   "metadata": {},
   "outputs": [],
   "source": [
    "#해쉬 함수 만들기 =나머지 값을 이요하기(예시)\n",
    "def hash_func(key):\n",
    "    return key%5"
   ]
  },
  {
   "cell_type": "code",
   "execution_count": 31,
   "id": "916044ec",
   "metadata": {},
   "outputs": [
    {
     "name": "stdout",
     "output_type": "stream",
     "text": [
      "97 2\n",
      "115 0\n",
      "104 4\n"
     ]
    }
   ],
   "source": [
    "#문자열 숫자로 바꾸기\n",
    "data1='apple'\n",
    "data2='samsung'\n",
    "data3='huawei'\n",
    "\n",
    "#ord=문자의 아스키크도 값을 리턴\n",
    "print(ord(data1[0]),ord(data1[0])%5)\n",
    "print(ord(data2[0]),ord(data2[0])%5)\n",
    "print(ord(data3[0]),ord(data3[0])%5)"
   ]
  },
  {
   "cell_type": "code",
   "execution_count": 46,
   "id": "c1fb4d67",
   "metadata": {},
   "outputs": [],
   "source": [
    "def storage_data(data,value):\n",
    "    key=ord(data[0]) #key값의 첫번째 문자를 아스키 코드(정수)로 바꿈\n",
    "    hash_address=hash_func(key) #해쉬 주소=정수로 바꾼 key값을 5로 나눈 나머지\n",
    "    hash_table[hash_address]=value"
   ]
  },
  {
   "cell_type": "code",
   "execution_count": 47,
   "id": "4a01f27d",
   "metadata": {},
   "outputs": [
    {
     "name": "stdout",
     "output_type": "stream",
     "text": [
      "[11111, 0, 55555, 0, '화웨이', 0, 0, 0, 0, 0]\n"
     ]
    }
   ],
   "source": [
    "storage_data(data1,55555)\n",
    "storage_data(data2,11111)\n",
    "storage_data(data3,'화웨이')\n",
    "print(hash_table)"
   ]
  },
  {
   "cell_type": "code",
   "execution_count": 48,
   "id": "c9854dfc",
   "metadata": {},
   "outputs": [],
   "source": [
    "#데이;터를 추출하기\n",
    "def get_data(data):\n",
    "    key=ord(data[0]) #key값의 첫번째 문자를 아스키 코드(정수)로 바꿈\n",
    "    hash_address=hash_func(key) #해쉬 주소=정수로 바꾼 key값을 5로 나눈 나머지\n",
    "    return hash_table[hash_address]"
   ]
  },
  {
   "cell_type": "code",
   "execution_count": 49,
   "id": "c4b1b190",
   "metadata": {},
   "outputs": [
    {
     "data": {
      "text/plain": [
       "55555"
      ]
     },
     "execution_count": 49,
     "metadata": {},
     "output_type": "execute_result"
    }
   ],
   "source": [
    "get_data(data1)"
   ]
  },
  {
   "cell_type": "code",
   "execution_count": 50,
   "id": "5c018c5e",
   "metadata": {},
   "outputs": [
    {
     "name": "stdout",
     "output_type": "stream",
     "text": [
      "[11111, 0, [55555], 0, '화웨이', 0, 0, 0, 0, 0]\n"
     ]
    }
   ],
   "source": [
    "# ex)\n",
    "hash_table[2]=[hash_table[2]]\n",
    "print(hash_table)"
   ]
  },
  {
   "cell_type": "code",
   "execution_count": null,
   "id": "9dc0abaa",
   "metadata": {},
   "outputs": [],
   "source": []
  }
 ],
 "metadata": {
  "kernelspec": {
   "display_name": "Python 3",
   "language": "python",
   "name": "python3"
  },
  "language_info": {
   "codemirror_mode": {
    "name": "ipython",
    "version": 3
   },
   "file_extension": ".py",
   "mimetype": "text/x-python",
   "name": "python",
   "nbconvert_exporter": "python",
   "pygments_lexer": "ipython3",
   "version": "3.8.8"
  }
 },
 "nbformat": 4,
 "nbformat_minor": 5
}
