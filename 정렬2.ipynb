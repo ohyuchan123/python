{
 "cells": [
  {
   "cell_type": "markdown",
   "id": "65825bf4",
   "metadata": {},
   "source": [
    "# 1. 병합정렬,힙정렬,퀵정렬|"
   ]
  },
  {
   "cell_type": "markdown",
   "id": "1a94d664",
   "metadata": {},
   "source": [
    "#### 병합 정렬(Merge Sort)\n",
    "1. 하나의 리스트를 같은 크기와 리스트로 분활하나다\n",
    "2. 분할된 부분 리스트를 정렬한 다음, 두개의 정렬된 부분 리스트를 합해서 전체 정렬을 함\n",
    "3. 각각의 부분리스트를 정렬하기 위해 리스트들을 순환 호출한다\n",
    "4. 분할 정복 알고리즘에 기반을 두고 있다\n",
    "\n",
    "##### 분할 정복 알고리즘?\n",
    "한번에 해결 할수 없는 문제를, 작은 문제로 분할해서 해결하는 알고리즘\n",
    "구현은 재귀 함수를 통해서 구현된다\n",
    "ex) 퀵정렬,병합정렬,고속 푸리에 변환(FFT)\n",
    "\n",
    "##### 장점\n",
    "1. 단계마다 항상 두개의 부분리스트로 나누어 데이터를 넣기 때문에 최악의 경우, 시간복잡도는 0(Nlog)으로 유지된다\n",
    "##### 단점\n",
    "1. 정렬 과정에서 추가적인 공간을 사용하기 때문에 메모리 사용량이 많다\n",
    "2. 부분 리스트에서 원본 리스트로 복사하는 것은 많은 시간을 소모하기 때문에 데이터가 많은 경우 시간이 많이 소모된다"
   ]
  },
  {
   "cell_type": "code",
   "execution_count": 1,
   "id": "c5197760",
   "metadata": {},
   "outputs": [
    {
     "name": "stdout",
     "output_type": "stream",
     "text": [
      "[1, 2, 3, 4, 5, 6, 7]\n"
     ]
    }
   ],
   "source": [
    "arr=[5,2,4,6,1,7,3]\n",
    "\n",
    "def merge_sort(arr):\n",
    "    if len(arr)<2:\n",
    "        return arr\n",
    "    \n",
    "    mid=len(arr)//2\n",
    "    low_arr=merge_sort(arr[:mid])\n",
    "    high_arr=merge_sort(arr[mid:])\n",
    "    \n",
    "    merged_arr=[]\n",
    "    l=0\n",
    "    h=0\n",
    "    while l<len(low_arr) and h<len(high_arr):\n",
    "        if low_arr[l]<high_arr[h]:\n",
    "            merged_arr.append(low_arr[l])\n",
    "            l+=1\n",
    "        else :\n",
    "            merged_arr.append(high_arr[h])\n",
    "            h+=1\n",
    "    merged_arr+=low_arr[l:]\n",
    "    merged_arr+=high_arr[h:]\n",
    "    return merged_arr\n",
    "print(merge_sort(arr))"
   ]
  },
  {
   "cell_type": "markdown",
   "id": "2ec6d27b",
   "metadata": {},
   "source": [
    "### 과정 글로 써보기 예시\n",
    "[1,6,4,5,2,3]\n",
    "분할 과정\n",
    "1) 1,6,4 // 5,2,3 반으로 쪼갠다\n",
    "2) 1/6,4 // 5/2,3 반으로 쪼갠 애들을 또 쪼갠다\n",
    "3) 1/4,6 // 5/2,3\n",
    "\n",
    "병합 과정\n",
    "1) 1/4,6 //5/2,3\n",
    "2와 5를 비교하고, 더 작은 2를 세부 리스트에 집어넣는다. 5/3->[2]\n",
    "5와 3을 비교해서, 더 작은 3을 세부 리스트에 집어넣는다. 5->[2,3]\n",
    "남은 5를 세부 리스트의 가장 뒤에 집어넣는다\n",
    "\n",
    "1과 4를 비교해서, 더 작은 1을 세무리스트에 집어넣는다 [1]/[4,6]\n",
    "4를 1이 있는 세부 리스트에 넣는다 [1,4]/[6]\n",
    "남은 6을 세부리스트의 가장 우측에 집어넣는다 [1,4,6]\n",
    "\n",
    "[1,4,6]//[2,3,5]\n",
    "각 리스트의 인덱스 번호 0번부터 비교한다 [1,4,6]->1/[2,3,5]->2\n",
    "1과 2를 비교해서 더 작은 1을 원본 리스트에 넣는다 [1, , , , ,]\n",
    "남은 2를 원본리스트에 넣는다 [1,2, , , ,]\n",
    "인덱스 번호를 1씩 크게 하면서 남은 요소가 없을 때까지 반복\n",
    "만약 남은 요소가 있다면 가장 우측에 넣어준다\n",
    "\n",
    "\n",
    "#### 예외\n",
    "[3,5,6]/[1,2,4] 우측항에 있는 1,2,4 중에, 1,2가 좌측항에 있는 3보다 작은 상황\n",
    "1과 3을 비교한다음, 세부 리스트에 더 작은 1을 집어넣습니다\n",
    "2와 3을 비교한다음, 세부 리스트에 더 작은 2를 집어넣음\n",
    "3과 4를 비교해서, 더 작은 3을 집어넣고 [5,6]/[4]->[1,2,3]\n",
    "5와 4를 비교해서 4를 집어넣고 [5,6]/[]->[1,2,3,4]\n",
    "남은 5를 집어넣은 다음 [6]->[1,2,3,4,5]\n",
    "최종적으로 비교되지 않은 6을 가장 우측에 병합한다 [1,2,3,4,5,6]"
   ]
  },
  {
   "cell_type": "code",
   "execution_count": null,
   "id": "07751377",
   "metadata": {},
   "outputs": [],
   "source": [
    "#병합 정렬\n",
    "def merge_sort(a):\n",
    "    if len(a)<=1:\n",
    "        return a\n",
    "##분할\n",
    "#리스트의 절반 = 리스트의 길이를 가져와서 나누기\n",
    "    middle=len(a)//2\n",
    "    right=a[middle:]\n",
    "    left=a[:middle]\n",
    "\n",
    "#     print(left,right)\n",
    "#요소 단위까지 쪼개기=재귀\n",
    "# 함수를 구현한다음, 구현된 함수 스스로를 함수 안에서 다시 불러오기\n",
    "    merge_sort(left)\n",
    "    merge_sort(right)\n",
    "#병합\n",
    "    i=0 #left 인덱스 번호\n",
    "    j=0 #right 인덱스 번호\n",
    "    k=0 #병합된 리스트의 인덱스 번호\n",
    "    #좌측항과 오른쪽 항을 비교\n",
    "    while i<len(left) and j<len(right):\n",
    "            if left[i]<right[j]: #좌측항이 우측항보다 작은 때\n",
    "                a[k]=left[i] #원본 인덱스에 그 값을 넣어주고\n",
    "                i+=1 \n",
    "            else:               # 우측항이 좌측항보다 작을 때\n",
    "                a[k]=right[j] #원본 인덱스.....~~~\n",
    "                j+=1 \n",
    "            k+=1 #숫자를 넣을 때마다 다음 숫자가 들어가 위취를 갱신\n",
    "    #좌우측항 중 한쪽 항의 요소가 남아있진 않을 때\n",
    "    while i<len(left): # 다른 항의 요소를 원본 리스트의 가장 우측항에 넣어준다\n",
    "        a[k]=left[i]\n",
    "        i+=1 #남은 항의 요소의 위치를 갱신\n",
    "        k+=1 #원본리스트의 다음 숫자가 들어갈 위치를 갱신\n",
    "    while i<len(right): # 다른 항의 요소를 원본 리스트의 가장 우측항에 넣어준다\n",
    "        a[k]=right[j]\n",
    "        j+=1 #남은 항의 요소의 위치를 갱신\n",
    "        k+=1 #원본리스트의 다음 숫자가 들어갈 위치를 갱신\n",
    "a=[1,6,4,5,2,3]\n",
    "merge_sort(a)\n",
    "print(a)"
   ]
  },
  {
   "cell_type": "markdown",
   "id": "36ab5471",
   "metadata": {},
   "source": [
    "# 힙(heap) 정렬\n",
    "\n",
    "1. 힙을 만드는 과정/정렬을 하는 과정 나뉨\n",
    "2. 시간복잡도는 0(NlongN)이다\n",
    "\n",
    "### heap이란?\n",
    "1. 자료구조의 일조으로 한 노드가 최대 2개의 자식노드를 가지면서 마지막 레벨을 제외한 모든 레벨에서 노드들이 저부 채워진 완전 이진 트리(complete binary tree)를 기본으로 함\n",
    "2. 힙의 속성 :\n",
    "* Order : 각 노드의 값은 자신의 자식노드가 가진 값보다 크거나 같다(최대 합)/각 노드의 값은 자식노드가 가진 값보다 작거나 같다(최소 힙)\n",
    "* shape : 완전 이진 트리 형태를 따르기 때문에, 마지막 레벨의 모든 노드는 왼쪽에 존재한다\n",
    "#### 힙의 장점\n",
    "* 우선순위에 자주 엑세스(접근)하거나 키 중심으로 정렬된 시퀸스를 활용할 때 사용한다\n",
    "\n",
    "#### 힙 성질을 만족하도록 하는 연산=heapify\n",
    "* 이진 트리 구조에서 order와 shape 속성들을 만족해야함\n",
    "* 속성을 만족시키기 위해서 각 노드들의 위치를 변경하는데, 변경하기 전과, 변경 한 후에 힙 속성ㅇ르 확인해야함"
   ]
  },
  {
   "cell_type": "code",
   "execution_count": 42,
   "id": "72a6f335",
   "metadata": {},
   "outputs": [
    {
     "name": "stdout",
     "output_type": "stream",
     "text": [
      "[3, 5, 4, 8, 6, 7, 6]\n"
     ]
    }
   ],
   "source": [
    "#힙파이 짜기(최대 힙을 기준)\n",
    "\n",
    "## 부모노드가 자식노드의 합보다 크거나 같아야 한다\n",
    "## 자식노드들 중에서 가장 큰 숫자가 부모노드와 위치를 바꿔야 한다\n",
    "\n",
    "#파이썬 내장 함수\n",
    "import heapq as hq\n",
    "\n",
    "a=[8,3,4,5,6,7,6]\n",
    "hq.heapify(a)\n",
    "print(a)    "
   ]
  },
  {
   "cell_type": "markdown",
   "id": "2ed731bb",
   "metadata": {},
   "source": [
    "#### 힙 정렬 과정\n",
    "1. 최대 힙을 구성한다(heapq 라이브러리를 사용)=부모노드가 자식노드보다 큰 트리를 구성한다\n",
    "2. 가장 큰 수(루트)와 가장 작은 수(마지막 레벨에 있는 자식노드 중 1)를 교환한다\n",
    "3. 1~2번을 반복한다 "
   ]
  },
  {
   "cell_type": "code",
   "execution_count": 47,
   "id": "16e5559f",
   "metadata": {},
   "outputs": [
    {
     "name": "stdout",
     "output_type": "stream",
     "text": [
      "1 2 3 4 5 6 7 8 9 "
     ]
    }
   ],
   "source": [
    "#파이썬 내장 함수를 쓴 버전\n",
    "a=[3,2,4,5,1,6,7,9,8]\n",
    "h=[]\n",
    "for i in a:\n",
    "    hq.heappush(h,i)\n",
    "for i in range(len(h)):\n",
    "    print(hq.heappop(h),end=\" \")\n",
    "        "
   ]
  },
  {
   "cell_type": "code",
   "execution_count": null,
   "id": "5e8cccb9",
   "metadata": {},
   "outputs": [],
   "source": []
  },
  {
   "cell_type": "code",
   "execution_count": null,
   "id": "8cee52a1",
   "metadata": {},
   "outputs": [],
   "source": []
  },
  {
   "cell_type": "markdown",
   "id": "7dba3f17",
   "metadata": {},
   "source": [
    "# 퀵 정렬"
   ]
  },
  {
   "cell_type": "code",
   "execution_count": 46,
   "id": "38bae963",
   "metadata": {},
   "outputs": [
    {
     "name": "stdout",
     "output_type": "stream",
     "text": [
      "[1, 2, 3, 4, 5, 6, 7, 8]\n"
     ]
    }
   ],
   "source": [
    "a=[6,5,3,1,8,7,2,4]\n",
    "def quick_sort(a):\n",
    "    if len(a)<=1:\n",
    "        return a\n",
    "    p=a[len(a)//2]\n",
    "    l=[]\n",
    "    e=[]\n",
    "    g=[]\n",
    "    for num in a:\n",
    "        if num<p:\n",
    "            l.append(num)\n",
    "        elif num>p:\n",
    "            g.append(num)\n",
    "        else:\n",
    "            e.append(num)\n",
    "    return quick_sort(l)+quick_sort(e)+quick_sort(g)\n",
    "print(quick_sort(a)) "
   ]
  },
  {
   "cell_type": "code",
   "execution_count": null,
   "id": "55b23e01",
   "metadata": {},
   "outputs": [],
   "source": []
  },
  {
   "cell_type": "code",
   "execution_count": null,
   "id": "038f71f7",
   "metadata": {},
   "outputs": [],
   "source": []
  },
  {
   "cell_type": "code",
   "execution_count": null,
   "id": "ea7bcec9",
   "metadata": {},
   "outputs": [],
   "source": [
    "\n",
    "    "
   ]
  },
  {
   "cell_type": "code",
   "execution_count": null,
   "id": "89310cb2",
   "metadata": {},
   "outputs": [],
   "source": []
  },
  {
   "cell_type": "code",
   "execution_count": null,
   "id": "e96c33e8",
   "metadata": {},
   "outputs": [],
   "source": []
  },
  {
   "cell_type": "code",
   "execution_count": null,
   "id": "b388f0c2",
   "metadata": {},
   "outputs": [],
   "source": []
  },
  {
   "cell_type": "code",
   "execution_count": null,
   "id": "a0ce12f0",
   "metadata": {},
   "outputs": [],
   "source": []
  },
  {
   "cell_type": "code",
   "execution_count": null,
   "id": "ded03206",
   "metadata": {},
   "outputs": [],
   "source": []
  },
  {
   "cell_type": "code",
   "execution_count": null,
   "id": "aa587168",
   "metadata": {},
   "outputs": [],
   "source": []
  },
  {
   "cell_type": "code",
   "execution_count": null,
   "id": "82da70e3",
   "metadata": {},
   "outputs": [],
   "source": []
  }
 ],
 "metadata": {
  "kernelspec": {
   "display_name": "Python 3",
   "language": "python",
   "name": "python3"
  },
  "language_info": {
   "codemirror_mode": {
    "name": "ipython",
    "version": 3
   },
   "file_extension": ".py",
   "mimetype": "text/x-python",
   "name": "python",
   "nbconvert_exporter": "python",
   "pygments_lexer": "ipython3",
   "version": "3.8.8"
  }
 },
 "nbformat": 4,
 "nbformat_minor": 5
}
