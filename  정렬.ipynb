{
 "cells": [
  {
   "cell_type": "markdown",
   "id": "3c7424da",
   "metadata": {},
   "source": [
    "# 버블정렬"
   ]
  },
  {
   "cell_type": "code",
   "execution_count": null,
   "id": "d22ec74a",
   "metadata": {},
   "outputs": [],
   "source": [
    "#버블 정렬은 요소의 인덱스를 바꿔가면서 가장 마지막 요소부터 순서대로 정렬하는 방식\n",
    "a=[2,3,5,1,4]"
   ]
  },
  {
   "cell_type": "code",
   "execution_count": 60,
   "id": "80cf4b54",
   "metadata": {},
   "outputs": [
    {
     "name": "stdout",
     "output_type": "stream",
     "text": [
      "[1, 2, 3, 4, 5]\n",
      "[1, 2, 3, 4, 5]\n",
      "[1, 2, 3, 4, 5]\n",
      "[1, 2, 3, 4, 5]\n"
     ]
    }
   ],
   "source": [
    "#기본적인 버블 정렬\n",
    "for j in range(len(a)-1,0,-1):\n",
    "    for i in range(j):\n",
    "        if a[i]>a[i+1]:\n",
    "            a[i],a[i+1]=a[i+1],a[i]\n",
    "    print(a)"
   ]
  },
  {
   "cell_type": "code",
   "execution_count": 61,
   "id": "4fd7add8",
   "metadata": {},
   "outputs": [
    {
     "name": "stdout",
     "output_type": "stream",
     "text": [
      "[1, 2, 3, 4, 5]\n",
      "[1, 2, 3, 4, 5]\n",
      "[1, 2, 3, 4, 5]\n",
      "[1, 2, 3, 4, 5]\n",
      "[1, 2, 3, 4, 5]\n"
     ]
    }
   ],
   "source": [
    "arr=[5,2,4,3,1]\n",
    "for i in range(len(arr)):\n",
    "    for j in range(0,len(arr)-i-1):\n",
    "        if arr[j]>arr[j+1]:\n",
    "            arr[j],arr[j+1]=arr[j+1],arr[j]\n",
    "    print(a)"
   ]
  },
  {
   "cell_type": "code",
   "execution_count": 48,
   "id": "cddb6d20",
   "metadata": {},
   "outputs": [
    {
     "name": "stdout",
     "output_type": "stream",
     "text": [
      "[5, 4, 1, 3, 2]\n",
      "[4, 1, 3, 2, 5]\n",
      "\n",
      "[4, 1, 3, 2, 5]\n",
      "[1, 3, 2, 4, 5]\n",
      "\n",
      "[1, 3, 2, 4, 5]\n",
      "[1, 2, 3, 4, 5]\n",
      "\n",
      "[1, 2, 3, 4, 5]\n",
      "[1, 2, 3, 4, 5]\n",
      "\n"
     ]
    }
   ],
   "source": [
    "a=[5,4,1,3,2]\n",
    "temp=False\n",
    "for i in range(len(a)-1,0,-1):\n",
    "    temp=False\n",
    "    print(str(a))\n",
    "    for j in range(i):\n",
    "        if a[j]>a[j+1]:\n",
    "            a[j],a[j+1]=a[j+1],a[j]\n",
    "            temp=True #이번 step에 정렬을 했다는 의미\n",
    "    print(str(a))\n",
    "    print()\n",
    "    if not temp: #만약 정렬을 하지 않아도 된다면 정렬을 멈춘다\n",
    "          break"
   ]
  },
  {
   "cell_type": "markdown",
   "id": "604884f4",
   "metadata": {},
   "source": [
    "# 선택 정렬"
   ]
  },
  {
   "cell_type": "markdown",
   "id": "194ec837",
   "metadata": {},
   "source": [
    "[4,3,5,2,1]\n",
    "\n",
    "[1,4,3,5,2]\n",
    "\n",
    "[1,2,4,3,5]\n",
    "\n",
    "[1,2,3,4,5]"
   ]
  },
  {
   "cell_type": "code",
   "execution_count": 62,
   "id": "33fa7119",
   "metadata": {},
   "outputs": [
    {
     "name": "stdout",
     "output_type": "stream",
     "text": [
      "[1, 3, 5, 2, 4]\n",
      "[1, 2, 5, 3, 4]\n",
      "[1, 2, 4, 3, 5]\n",
      "[1, 2, 4, 3, 5]\n"
     ]
    }
   ],
   "source": [
    "# 정렬 범위를 돌면서 가장 작은 숫자를 앞으로 보내는 방식\n",
    "a=[4,3,5,2,1]\n",
    "min=0\n",
    "for i in range(len(a)-1): #이번 차례에 정렬할 값을 넣어야할 위치\n",
    "    min=i\n",
    "    for j in range(i+1,len(a)): #정렬할 값의 위치를 제외한 나머지 리스트 내 요소의 위치\n",
    "        if a[j]<a[i]: #정렬하려는 위치의 값이,나머지 리스트 내의 요소의 값보다 크다면\n",
    "            min=j # 가장 작은 해당 값의 위치를 저장한다\n",
    "    #값의 변환은여러번 일어나지만\n",
    "    a[i],a[min]=a[min],a[i] #변환은이번 차례에 정렬할 값을 넣어야할 위치에 대해 마지막 한번만일어난다\n",
    "    print(a)\n",
    "            "
   ]
  },
  {
   "cell_type": "markdown",
   "id": "aa1396c6",
   "metadata": {},
   "source": [
    "# 삽입 정렬"
   ]
  },
  {
   "cell_type": "markdown",
   "id": "08e4f935",
   "metadata": {},
   "source": [
    "[2,1,5,4,3]->[2,1]->[1,2]\n",
    "\n",
    "[1,2,5,4,3]->[1,2,5]->[2,5]\n",
    "\n",
    "[1,2,5,4,3]->[1,2,5,4]->[4,5]\n",
    "\n",
    "[1,2,4,5,3]->[1,2,4,5]->[2,4]\n",
    "\n",
    "[1,2,4,5,3]->[1,2,4,5,3]->[3,5]\n",
    "\n",
    "[1,2,4,3,5]->[1,2,4,3,5]->[3,4]\n",
    "\n",
    "[1,2,3,4,5]->[1,2,3,4,5]->[2,3]\n",
    "\n",
    "# 정렬 범위를 계속늘려나가면서 정렬을 하는 방식이다\n"
   ]
  },
  {
   "cell_type": "code",
   "execution_count": 59,
   "id": "c7c4d054",
   "metadata": {},
   "outputs": [
    {
     "name": "stdout",
     "output_type": "stream",
     "text": [
      "[2, 1, 5, 4, 3]\n",
      "[1, 2, 5, 4, 3]\n",
      "[1, 2, 5, 4, 3]\n",
      "[1, 2, 4, 5, 3]\n",
      "[1, 2, 3, 4, 5]\n"
     ]
    }
   ],
   "source": [
    "a=[2,1,5,4,3]\n",
    "for i in range(len(a)):\n",
    "    for j in range(i,0,-1):\n",
    "        if a[j-1]>a[j]:\n",
    "            a[j-1],a[j]=a[j],a[j-1]\n",
    "    print(a)"
   ]
  },
  {
   "cell_type": "code",
   "execution_count": null,
   "id": "c7c119a7",
   "metadata": {},
   "outputs": [],
   "source": []
  },
  {
   "cell_type": "code",
   "execution_count": null,
   "id": "9dd2a4d7",
   "metadata": {},
   "outputs": [],
   "source": []
  }
 ],
 "metadata": {
  "kernelspec": {
   "display_name": "Python 3",
   "language": "python",
   "name": "python3"
  },
  "language_info": {
   "codemirror_mode": {
    "name": "ipython",
    "version": 3
   },
   "file_extension": ".py",
   "mimetype": "text/x-python",
   "name": "python",
   "nbconvert_exporter": "python",
   "pygments_lexer": "ipython3",
   "version": "3.8.8"
  }
 },
 "nbformat": 4,
 "nbformat_minor": 5
}
