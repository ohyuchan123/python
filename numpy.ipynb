{
 "cells": [
  {
   "cell_type": "markdown",
   "id": "02d50c6b",
   "metadata": {},
   "source": [
    "# AI / 인공지능이란?\n",
    "### 우리가 모르는 현실에 존재하는 데이터들간의 연관성을 함수로 표현해서 얼마나 그 데이터들이 함수와연관이 있는지 탐색하는 작업이다\n"
   ]
  },
  {
   "cell_type": "markdown",
   "id": "e398874d",
   "metadata": {},
   "source": [
    "알아야 하는 함수 : 1차,2차,로그(log),지수 함수  \n",
    "필수로 알아야 하는 수학 개념  : 로그의 성질\n",
    "\n",
    "앞으로 가르쳐들리 수학 개념 : 배열(리스트)/행렬\n",
    "추가 공부해야할 개념 : \n",
    "1. 통계(평균,중간값,분산,편차,표준편차)\n",
    "2. 벡터와 벡터의 연산(내적,곱연산)\n",
    "3. 확률\n",
    "\n",
    "형실의 데이터  예시 : "
   ]
  },
  {
   "cell_type": "code",
   "execution_count": 9,
   "id": "8867fec0",
   "metadata": {},
   "outputs": [],
   "source": [
    "import numpy as np"
   ]
  },
  {
   "cell_type": "code",
   "execution_count": 10,
   "id": "ea7654b2",
   "metadata": {},
   "outputs": [
    {
     "name": "stdout",
     "output_type": "stream",
     "text": [
      "리스트 : [1, 2, 3]\n",
      "numpy array : [1 2 3]\n",
      "a 타입 : <class 'list'>\n",
      "b 타입 : <class 'numpy.ndarray'>\n"
     ]
    }
   ],
   "source": [
    "a=[1,2,3]\n",
    "b=np.array(a)\n",
    "\n",
    "print(\"리스트 : {}\".format(a))\n",
    "print(\"numpy array : {}\".format(b))\n",
    "\n",
    "print(\"a 타입 : {}\".format(type(a)))\n",
    "print(\"b 타입 : {}\".format(type(b)))"
   ]
  },
  {
   "cell_type": "code",
   "execution_count": 13,
   "id": "31b7e405",
   "metadata": {},
   "outputs": [
    {
     "name": "stdout",
     "output_type": "stream",
     "text": [
      "[0, 1, 4, 9, 16, 25, 36, 49, 64, 81]\n"
     ]
    }
   ],
   "source": [
    "a=[0,1,2,3,4,5,6,7,8,9]\n",
    "b=[0,1,2,3,4,5,6,7,8,9]\n",
    "c=[]\n",
    "for i in range(len(a)):\n",
    "    c.append(a[i]*b[i])\n",
    "print(c)"
   ]
  },
  {
   "cell_type": "code",
   "execution_count": 14,
   "id": "91dfcd90",
   "metadata": {},
   "outputs": [
    {
     "name": "stdout",
     "output_type": "stream",
     "text": [
      "[ 0  1  4  9 16 25 36 49 64 81]\n"
     ]
    }
   ],
   "source": [
    "a=np.array(a)\n",
    "b=np.array(b)\n",
    "c=a*b\n",
    "print(c)"
   ]
  },
  {
   "cell_type": "code",
   "execution_count": 31,
   "id": "a29ee6c8",
   "metadata": {},
   "outputs": [
    {
     "name": "stdout",
     "output_type": "stream",
     "text": [
      "30.0\n",
      "30.0\n",
      "30.0\n"
     ]
    }
   ],
   "source": [
    "scores=[10,20,30,40,50]\n",
    "# 1.\n",
    "print(sum(scores)/len(scores))\n",
    "\n",
    "# 2.\n",
    "temp=0\n",
    "count=0\n",
    "for i in scores:\n",
    "    temp+=i\n",
    "    count+=1\n",
    "print(temp/count)\n",
    "\n",
    "# 3.\n",
    "print(np.mean(scores))"
   ]
  },
  {
   "cell_type": "code",
   "execution_count": 35,
   "id": "3bebc71e",
   "metadata": {},
   "outputs": [
    {
     "name": "stdout",
     "output_type": "stream",
     "text": [
      "200.0\n",
      "200.0\n"
     ]
    }
   ],
   "source": [
    "# 분산이란= 평균이라는 값에서 데이터가 얼마나 퍼져있는지를 평균적으로 표현한 것\n",
    "# 분산 = 오차의 제곱의 평균\n",
    "# 오차 = 데이터의 값 - 데이터들의 평균\n",
    "\n",
    "# 예시\n",
    "# 나 = 평균 = 0\n",
    "# 내 왼쪽에는 -2(4), 내 오른쪽에는 + 5(25)\n",
    "# 내 분산 =14.5\n",
    "# 표준 편차 = sqrt(14,5)\n",
    "\n",
    "# 1.\n",
    "mean=0\n",
    "for i in scores:\n",
    "    mean+=i\n",
    "mean=mean/len(scores)\n",
    "# 오차 제곱 구하기\n",
    "error=[]\n",
    "for i in scores:\n",
    "    error.append((i-mean)**2)\n",
    "# 오차의 제곱으로 이루어진 리스트의 평균 = 분산\n",
    "temp=0\n",
    "for i in error:\n",
    "    temp+=i\n",
    "print(temp/len(scores))\n",
    "\n",
    "# 2. ndnumpy variance\n",
    "print(np.var(scores))"
   ]
  },
  {
   "cell_type": "code",
   "execution_count": 38,
   "id": "55adb771",
   "metadata": {},
   "outputs": [
    {
     "name": "stdout",
     "output_type": "stream",
     "text": [
      "__add__\n",
      "__class__\n",
      "__contains__\n",
      "__delattr__\n",
      "__delitem__\n",
      "__dir__\n",
      "__doc__\n",
      "__eq__\n",
      "__format__\n",
      "__ge__\n",
      "__getattribute__\n",
      "__getitem__\n",
      "__gt__\n",
      "__hash__\n",
      "__iadd__\n",
      "__imul__\n",
      "__init__\n",
      "__init_subclass__\n",
      "__iter__\n",
      "__le__\n",
      "__len__\n",
      "__lt__\n",
      "__mul__\n",
      "__ne__\n",
      "__new__\n",
      "__reduce__\n",
      "__reduce_ex__\n",
      "__repr__\n",
      "__reversed__\n",
      "__rmul__\n",
      "__setattr__\n",
      "__setitem__\n",
      "__sizeof__\n",
      "__str__\n",
      "__subclasshook__\n",
      "append\n",
      "clear\n",
      "copy\n",
      "count\n",
      "extend\n",
      "index\n",
      "insert\n",
      "pop\n",
      "remove\n",
      "reverse\n",
      "sort\n"
     ]
    }
   ],
   "source": [
    "a=list()\n",
    "for attr in dir(a):\n",
    "    print(attr)"
   ]
  },
  {
   "cell_type": "code",
   "execution_count": 40,
   "id": "5fa89bf8",
   "metadata": {},
   "outputs": [
    {
     "name": "stdout",
     "output_type": "stream",
     "text": [
      "T\n",
      "__abs__\n",
      "__add__\n",
      "__and__\n",
      "__array__\n",
      "__array_finalize__\n",
      "__array_function__\n",
      "__array_interface__\n",
      "__array_prepare__\n",
      "__array_priority__\n",
      "__array_struct__\n",
      "__array_ufunc__\n",
      "__array_wrap__\n",
      "__bool__\n",
      "__class__\n",
      "__complex__\n",
      "__contains__\n",
      "__copy__\n",
      "__deepcopy__\n",
      "__delattr__\n",
      "__delitem__\n",
      "__dir__\n",
      "__divmod__\n",
      "__doc__\n",
      "__eq__\n",
      "__float__\n",
      "__floordiv__\n",
      "__format__\n",
      "__ge__\n",
      "__getattribute__\n",
      "__getitem__\n",
      "__gt__\n",
      "__hash__\n",
      "__iadd__\n",
      "__iand__\n",
      "__ifloordiv__\n",
      "__ilshift__\n",
      "__imatmul__\n",
      "__imod__\n",
      "__imul__\n",
      "__index__\n",
      "__init__\n",
      "__init_subclass__\n",
      "__int__\n",
      "__invert__\n",
      "__ior__\n",
      "__ipow__\n",
      "__irshift__\n",
      "__isub__\n",
      "__iter__\n",
      "__itruediv__\n",
      "__ixor__\n",
      "__le__\n",
      "__len__\n",
      "__lshift__\n",
      "__lt__\n",
      "__matmul__\n",
      "__mod__\n",
      "__mul__\n",
      "__ne__\n",
      "__neg__\n",
      "__new__\n",
      "__or__\n",
      "__pos__\n",
      "__pow__\n",
      "__radd__\n",
      "__rand__\n",
      "__rdivmod__\n",
      "__reduce__\n",
      "__reduce_ex__\n",
      "__repr__\n",
      "__rfloordiv__\n",
      "__rlshift__\n",
      "__rmatmul__\n",
      "__rmod__\n",
      "__rmul__\n",
      "__ror__\n",
      "__rpow__\n",
      "__rrshift__\n",
      "__rshift__\n",
      "__rsub__\n",
      "__rtruediv__\n",
      "__rxor__\n",
      "__setattr__\n",
      "__setitem__\n",
      "__setstate__\n",
      "__sizeof__\n",
      "__str__\n",
      "__sub__\n",
      "__subclasshook__\n",
      "__truediv__\n",
      "__xor__\n",
      "all\n",
      "any\n",
      "argmax\n",
      "argmin\n",
      "argpartition\n",
      "argsort\n",
      "astype\n",
      "base\n",
      "byteswap\n",
      "choose\n",
      "clip\n",
      "compress\n",
      "conj\n",
      "conjugate\n",
      "copy\n",
      "ctypes\n",
      "cumprod\n",
      "cumsum\n",
      "data\n",
      "diagonal\n",
      "dot\n",
      "dtype\n",
      "dump\n",
      "dumps\n",
      "fill\n",
      "flags\n",
      "flat\n",
      "flatten\n",
      "getfield\n",
      "imag\n",
      "item\n",
      "itemset\n",
      "itemsize\n",
      "max\n",
      "mean\n",
      "min\n",
      "nbytes\n",
      "ndim\n",
      "newbyteorder\n",
      "nonzero\n",
      "partition\n",
      "prod\n",
      "ptp\n",
      "put\n",
      "ravel\n",
      "real\n",
      "repeat\n",
      "reshape\n",
      "resize\n",
      "round\n",
      "searchsorted\n",
      "setfield\n",
      "setflags\n",
      "shape\n",
      "size\n",
      "sort\n",
      "squeeze\n",
      "std\n",
      "strides\n",
      "sum\n",
      "swapaxes\n",
      "take\n",
      "tobytes\n",
      "tofile\n",
      "tolist\n",
      "tostring\n",
      "trace\n",
      "transpose\n",
      "var\n",
      "view\n"
     ]
    }
   ],
   "source": [
    "a=np.array([1,2,3])\n",
    "for attr in dir(a):\n",
    "    print(attr)"
   ]
  },
  {
   "cell_type": "code",
   "execution_count": null,
   "id": "670ac456",
   "metadata": {},
   "outputs": [],
   "source": []
  },
  {
   "cell_type": "code",
   "execution_count": null,
   "id": "ec84b07c",
   "metadata": {},
   "outputs": [],
   "source": []
  },
  {
   "cell_type": "code",
   "execution_count": null,
   "id": "1ca4b6c3",
   "metadata": {},
   "outputs": [],
   "source": []
  }
 ],
 "metadata": {
  "kernelspec": {
   "display_name": "Python 3",
   "language": "python",
   "name": "python3"
  },
  "language_info": {
   "codemirror_mode": {
    "name": "ipython",
    "version": 3
   },
   "file_extension": ".py",
   "mimetype": "text/x-python",
   "name": "python",
   "nbconvert_exporter": "python",
   "pygments_lexer": "ipython3",
   "version": "3.8.8"
  }
 },
 "nbformat": 4,
 "nbformat_minor": 5
}
