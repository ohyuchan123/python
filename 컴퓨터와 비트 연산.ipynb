{
 "cells": [
  {
   "cell_type": "markdown",
   "id": "d5a5daf5",
   "metadata": {},
   "source": [
    "### 최종  목표 : +를 쓰지 않고 덧셈하기"
   ]
  },
  {
   "cell_type": "code",
   "execution_count": 5,
   "id": "ab99b94d",
   "metadata": {},
   "outputs": [
    {
     "name": "stdout",
     "output_type": "stream",
     "text": [
      "15\n"
     ]
    }
   ],
   "source": [
    "a=10\n",
    "b=5\n",
    "print(a+b)"
   ]
  },
  {
   "cell_type": "code",
   "execution_count": 3,
   "id": "472859c6",
   "metadata": {},
   "outputs": [
    {
     "name": "stdout",
     "output_type": "stream",
     "text": [
      "10 0b1010 <class 'str'>\n"
     ]
    }
   ],
   "source": [
    "#bin은 10진수를 2진수 string로 바꿔준다\n",
    "a=10\n",
    "b=bin(a)\n",
    "c=type(b)\n",
    "print(a,b,c)"
   ]
  },
  {
   "cell_type": "code",
   "execution_count": 7,
   "id": "c907f6ef",
   "metadata": {},
   "outputs": [
    {
     "data": {
      "text/plain": [
       "10"
      ]
     },
     "execution_count": 7,
     "metadata": {},
     "output_type": "execute_result"
    }
   ],
   "source": [
    "0b1010"
   ]
  },
  {
   "cell_type": "code",
   "execution_count": 9,
   "id": "da828c57",
   "metadata": {},
   "outputs": [
    {
     "name": "stdout",
     "output_type": "stream",
     "text": [
      "0b111100 0b1101\n"
     ]
    }
   ],
   "source": [
    "#비트 연산자 &,|,~,^,>>\n",
    "a=60\n",
    "b=13\n",
    "bit_a=bin(a)\n",
    "bit_b=bin(b)\n",
    "print(bin(a),bin(b))\n"
   ]
  },
  {
   "cell_type": "code",
   "execution_count": 11,
   "id": "fcabb009",
   "metadata": {},
   "outputs": [
    {
     "name": "stdout",
     "output_type": "stream",
     "text": [
      "12\n"
     ]
    }
   ],
   "source": [
    "# &=and\n",
    "#111100\n",
    "#001101\n",
    "#001100=1100(이진수)\n",
    "print(a&b)"
   ]
  },
  {
   "cell_type": "code",
   "execution_count": 12,
   "id": "4e309ca9",
   "metadata": {},
   "outputs": [
    {
     "name": "stdout",
     "output_type": "stream",
     "text": [
      "61\n"
     ]
    }
   ],
   "source": [
    "# |=or\n",
    "#111100\n",
    "#001101\n",
    "#111101=111101(이진수)\n",
    "print(a|b)"
   ]
  },
  {
   "cell_type": "markdown",
   "id": "cf347962",
   "metadata": {},
   "source": [
    "### 보수의 개념\n",
    "보수 : 컴퓨터에 음수를 저장하기 위해 쓰는 방법 중 하나   \n",
    "4bit가 있을 때, 절반은 음수를 저장하고, 맨 앞의 비트는 부호의 비트로 활용   \n",
    "ex) 4비트가 저장하는 수는 -8~7"
   ]
  },
  {
   "cell_type": "code",
   "execution_count": 15,
   "id": "adb44b5e",
   "metadata": {},
   "outputs": [
    {
     "name": "stdout",
     "output_type": "stream",
     "text": [
      "-61\n",
      "-14\n"
     ]
    }
   ],
   "source": [
    "# ~=not\n",
    "#00111100  #60\n",
    "#11000011=-64+3=-61 \n",
    "#첫번째 1은 마이너스를 표현하기 위한 것, 두번째는 그 음수의 크기를 표현하기 위한 것\n",
    "#나머지 숫자들은 세부적인 값을 표현하기 위한 것(양수)\n",
    "print(~a)\n",
    "#001101\n",
    "#110010=-16+2=-14\n",
    "print(~b)"
   ]
  },
  {
   "cell_type": "code",
   "execution_count": 18,
   "id": "f546505a",
   "metadata": {},
   "outputs": [
    {
     "name": "stdout",
     "output_type": "stream",
     "text": [
      "-1\n",
      "-1\n"
     ]
    }
   ],
   "source": [
    "not_a=~a\n",
    "print(a+not_a)\n",
    "not_b=~b\n",
    "print(b+not_b)"
   ]
  },
  {
   "cell_type": "code",
   "execution_count": 20,
   "id": "5488c0e7",
   "metadata": {},
   "outputs": [
    {
     "name": "stdout",
     "output_type": "stream",
     "text": [
      "6\n"
     ]
    }
   ],
   "source": [
    "# ^=XOR 연산\n",
    "# 둘 중 하나만 참일 때 참이다\n",
    "# 1001 1111=9,15\n",
    "# 1001\n",
    "# 1111\n",
    "# 0110\n",
    "a,b=9,15\n",
    "print(a^b)"
   ]
  },
  {
   "cell_type": "code",
   "execution_count": 23,
   "id": "1e3faed7",
   "metadata": {},
   "outputs": [
    {
     "name": "stdout",
     "output_type": "stream",
     "text": [
      "240\n",
      "15\n"
     ]
    }
   ],
   "source": [
    "# >>,<<\n",
    "#111100 이라는 이진수를 << 2칸 시프트 이동한다고 가정하면\n",
    "#11110000  = 16+32+64+126\n",
    "#111100 이라는 이진수를 >> 2칸 시프트로 이동한다 가정하면\n",
    "#1111=8+4+2+1\n",
    "a=60\n",
    "print(a<<2)\n",
    "print(a>>2)"
   ]
  },
  {
   "cell_type": "markdown",
   "id": "1417d143",
   "metadata": {},
   "source": [
    "### 덧셈 만들기"
   ]
  },
  {
   "cell_type": "code",
   "execution_count": null,
   "id": "5c97b8cd",
   "metadata": {},
   "outputs": [],
   "source": [
    "# 3+4\n",
    "# 11+100=111\n",
    "\n",
    "#011\n",
    "#100\n",
    "#___\n",
    "#111\n",
    "\n",
    "# 3+2\n",
    "# 11+ 10=101\n",
    "\n",
    "#011\n",
    "#010\n",
    "#___\n",
    "#101\n",
    "\n",
    "\n",
    "# 3+1\n",
    "# 11 +01=100\n",
    "\n",
    "#011\n",
    "#001\n",
    "#___\n",
    "#100\n",
    "\n",
    "# 4+2\n",
    "# 100\n",
    "# 010\n",
    "# ___\n",
    "# 110"
   ]
  },
  {
   "cell_type": "code",
   "execution_count": null,
   "id": "43370545",
   "metadata": {},
   "outputs": [],
   "source": [
    "#10100\n",
    "#00001\n",
    "#10101\n",
    "\n",
    "#but\n",
    "#10100\n",
    "#00000\n"
   ]
  },
  {
   "cell_type": "code",
   "execution_count": 68,
   "id": "a04e7e33",
   "metadata": {},
   "outputs": [
    {
     "name": "stdout",
     "output_type": "stream",
     "text": [
      "7\n",
      "7\n"
     ]
    }
   ],
   "source": [
    "a=3\n",
    "b=4\n",
    "print(a^b)\n",
    "def add(a,b):\n",
    "    if b==0:\n",
    "        return a\n",
    "    elif a==0:\n",
    "        return b\n",
    "    sum=(a^b)\n",
    "    and_shift=(a&b)>>2\n",
    "    return add(sum,and_shift)\n",
    "print(add(a,b))"
   ]
  },
  {
   "cell_type": "code",
   "execution_count": 62,
   "id": "a46a625f",
   "metadata": {},
   "outputs": [
    {
     "name": "stdout",
     "output_type": "stream",
     "text": [
      "0b10101\n",
      "0b10101\n",
      "0b1010\n"
     ]
    }
   ],
   "source": [
    "a,b=10,11\n",
    "c=a^b\n",
    "d=a&b\n",
    "e=a+b\n",
    "# print(bin(a),bin(b),bin(e))\n",
    "\n",
    "print(bin(e)) # 101000 + 00001\n",
    "print(bin(d)+bin(c)[2:])\n",
    "print(bin(a))"
   ]
  },
  {
   "cell_type": "code",
   "execution_count": null,
   "id": "eb398f4a",
   "metadata": {},
   "outputs": [],
   "source": []
  },
  {
   "cell_type": "code",
   "execution_count": null,
   "id": "9fa20e1b",
   "metadata": {},
   "outputs": [],
   "source": []
  }
 ],
 "metadata": {
  "kernelspec": {
   "display_name": "Python 3",
   "language": "python",
   "name": "python3"
  },
  "language_info": {
   "codemirror_mode": {
    "name": "ipython",
    "version": 3
   },
   "file_extension": ".py",
   "mimetype": "text/x-python",
   "name": "python",
   "nbconvert_exporter": "python",
   "pygments_lexer": "ipython3",
   "version": "3.8.8"
  }
 },
 "nbformat": 4,
 "nbformat_minor": 5
}
