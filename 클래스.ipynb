{
 "cells": [
  {
   "cell_type": "code",
   "execution_count": 3,
   "id": "95650169",
   "metadata": {},
   "outputs": [
    {
     "name": "stdout",
     "output_type": "stream",
     "text": [
      "3\n",
      "7\n"
     ]
    }
   ],
   "source": [
    "temp=0\n",
    "def add(num):\n",
    "    global temp\n",
    "    temp+=num\n",
    "    return temp\n",
    "print(add(3))\n",
    "print(add(4))"
   ]
  },
  {
   "cell_type": "code",
   "execution_count": 7,
   "id": "865e6b09",
   "metadata": {},
   "outputs": [
    {
     "name": "stdout",
     "output_type": "stream",
     "text": [
      "3\n",
      "7\n",
      "7\n",
      "5\n",
      "15\n",
      "15\n"
     ]
    }
   ],
   "source": [
    "temp1=0\n",
    "temp2=0\n",
    "def add1(num):\n",
    "    global temp1\n",
    "    temp1+=num\n",
    "    return temp1\n",
    "def add2(num):\n",
    "    global temp2\n",
    "    temp2+=num\n",
    "    return temp2\n",
    "print(add1(3))\n",
    "print(add1(4))\n",
    "print(temp1)\n",
    "\n",
    "print(add2(5))\n",
    "print(add2(10))\n",
    "print(temp2)"
   ]
  },
  {
   "cell_type": "code",
   "execution_count": 11,
   "id": "6f15e6a2",
   "metadata": {},
   "outputs": [
    {
     "name": "stdout",
     "output_type": "stream",
     "text": [
      "3\n",
      "7\n",
      "5\n",
      "15\n"
     ]
    }
   ],
   "source": [
    "class calculator:\n",
    "    def __init__(self):\n",
    "        self.temp=0\n",
    "    def add(self,num):\n",
    "        self.temp+=num\n",
    "        return self.temp\n",
    "cal1=calculator()\n",
    "cal2=calculator()\n",
    "\n",
    "print(cal1.add(3))\n",
    "print(cal1.add(4))\n",
    "print(cal2.add(5))\n",
    "print(cal2.add(10))"
   ]
  },
  {
   "cell_type": "code",
   "execution_count": 1,
   "id": "6baa0e00",
   "metadata": {},
   "outputs": [
    {
     "name": "stdout",
     "output_type": "stream",
     "text": [
      "정수 입력 : 10\n",
      "연산기호 입력 : +\n",
      "10\n",
      "정수 입력 : 10\n",
      "연산기호 입력 : +\n",
      "20\n",
      "정수 입력 : 10\n",
      "연산기호 입력 : +\n",
      "30\n",
      "정수 입력 : 10\n",
      "연산기호 입력 : +\n",
      "40\n",
      "정수 입력 : 10\n",
      "연산기호 입력 : +\n",
      "50\n"
     ]
    }
   ],
   "source": [
    "number=0\n",
    "class calcul:\n",
    "    def add(self,num):\n",
    "        global number\n",
    "        number=number+num\n",
    "    def sub(self,num):\n",
    "        global number\n",
    "        number=number-num\n",
    "    def mul(self,num):\n",
    "        global number\n",
    "        number=number*num\n",
    "    def div(self,num):\n",
    "        global number\n",
    "        number=number/num\n",
    "    def s(self):\n",
    "        global global_number\n",
    "        global_number = 0\n",
    "cal=calcul()\n",
    "count=0\n",
    "while True:\n",
    "    num1=int(input(\"정수 입력 : \"))\n",
    "    op=input(\"연산기호 입력 : \")\n",
    "    if op=='+':\n",
    "        cal.add(num1)\n",
    "        print(number)\n",
    "        count+=1\n",
    "    elif op=='-':\n",
    "        cal.sub(num1)\n",
    "        print(number)\n",
    "        count+=1\n",
    "    elif op=='*':\n",
    "        cal.mul(num1)\n",
    "        print(number)\n",
    "        count+=1\n",
    "    else:\n",
    "        cal.div(num1)\n",
    "        print(number)\n",
    "        count+=1\n",
    "    if count==5:\n",
    "        break\n",
    "    "
   ]
  },
  {
   "cell_type": "code",
   "execution_count": 11,
   "id": "4b2127a8",
   "metadata": {},
   "outputs": [
    {
     "name": "stdout",
     "output_type": "stream",
     "text": [
      "140719165417360\n",
      "140719165417424\n"
     ]
    }
   ],
   "source": [
    "class calculator1:\n",
    "    def cal_num(self,num1,num2):\n",
    "        self.num1=num1\n",
    "        self.num2=num2\n",
    "    def add(self):\n",
    "        return self.num1+self.num2\n",
    "a=calculator1()\n",
    "b=calculator1()\n",
    "a.cal_num(4,2)\n",
    "b.cal_num(6,4)\n",
    "print(id(a.num1))\n",
    "print(id(b.num1))"
   ]
  },
  {
   "cell_type": "code",
   "execution_count": 10,
   "id": "1edfaf49",
   "metadata": {},
   "outputs": [],
   "source": [
    "class calcul:\n",
    "    def __init__(self,num1,num2):\n",
    "        self.num1=num1\n",
    "        self.num2=num2\n",
    "    def cal_num(self,num1,num2):\n",
    "        self.num1=num1\n",
    "        self.num2=num2\n",
    "    def add(self):\n",
    "        return self.num1+self.num2\n",
    "    def sub(self):\n",
    "        return self.num1-self.num2\n",
    "    def mul(self):\n",
    "        return self.num1*self.num2\n",
    "    def div(self):\n",
    "        return self.num1/self.num2\n",
    "a=calcul()\n",
    "b=calcul()\n",
    "a.cal_num(4,2)\n",
    "b.cal_num(7,4)\n",
    "print(a.add())\n",
    "print(b.add())\n",
    "c=calcul(0,0)"
   ]
  },
  {
   "cell_type": "code",
   "execution_count": 20,
   "id": "8d6647a1",
   "metadata": {},
   "outputs": [],
   "source": [
    "class sun_calcul(calcul):\n",
    "    def pow(self):\n",
    "        return self.num1**self.num2\n",
    "    def div(self):\n",
    "        if self.num2==0:\n",
    "            return \"0으로 나눌 수 없습니다\"\n",
    "        else:\n",
    "            return self.num1/self.num2"
   ]
  },
  {
   "cell_type": "code",
   "execution_count": 15,
   "id": "1a45c0a1",
   "metadata": {},
   "outputs": [
    {
     "name": "stdout",
     "output_type": "stream",
     "text": [
      "7\n",
      "81\n"
     ]
    }
   ],
   "source": [
    "a=sun_calcul(3,4)\n",
    "print(a.add())\n",
    "print(a.pow())\n"
   ]
  },
  {
   "cell_type": "code",
   "execution_count": 16,
   "id": "096e4808",
   "metadata": {},
   "outputs": [
    {
     "ename": "AttributeError",
     "evalue": "'calcul' object has no attribute 'pow'",
     "output_type": "error",
     "traceback": [
      "\u001b[1;31m---------------------------------------------------------------------------\u001b[0m",
      "\u001b[1;31mAttributeError\u001b[0m                            Traceback (most recent call last)",
      "\u001b[1;32m<ipython-input-16-29b03a7d597a>\u001b[0m in \u001b[0;36m<module>\u001b[1;34m\u001b[0m\n\u001b[0;32m      1\u001b[0m \u001b[0ma\u001b[0m\u001b[1;33m=\u001b[0m\u001b[0mcalcul\u001b[0m\u001b[1;33m(\u001b[0m\u001b[1;36m4\u001b[0m\u001b[1;33m,\u001b[0m\u001b[1;36m5\u001b[0m\u001b[1;33m)\u001b[0m\u001b[1;33m\u001b[0m\u001b[1;33m\u001b[0m\u001b[0m\n\u001b[1;32m----> 2\u001b[1;33m \u001b[0mprint\u001b[0m\u001b[1;33m(\u001b[0m\u001b[0ma\u001b[0m\u001b[1;33m.\u001b[0m\u001b[0mpow\u001b[0m\u001b[1;33m(\u001b[0m\u001b[1;33m)\u001b[0m\u001b[1;33m)\u001b[0m\u001b[1;33m\u001b[0m\u001b[1;33m\u001b[0m\u001b[0m\n\u001b[0m",
      "\u001b[1;31mAttributeError\u001b[0m: 'calcul' object has no attribute 'pow'"
     ]
    }
   ],
   "source": [
    "a=calcul(4,5)\n",
    "print(a.pow())"
   ]
  },
  {
   "cell_type": "code",
   "execution_count": 22,
   "id": "4f320101",
   "metadata": {},
   "outputs": [
    {
     "name": "stdout",
     "output_type": "stream",
     "text": [
      "0으로 나눌 수 없습니다\n"
     ]
    }
   ],
   "source": [
    "a=sun_calcul(54,0)\n",
    "print(a.div())"
   ]
  },
  {
   "cell_type": "code",
   "execution_count": null,
   "id": "c51a96c6",
   "metadata": {},
   "outputs": [],
   "source": []
  },
  {
   "cell_type": "code",
   "execution_count": null,
   "id": "adb84862",
   "metadata": {},
   "outputs": [],
   "source": []
  },
  {
   "cell_type": "code",
   "execution_count": null,
   "id": "e6afe0bf",
   "metadata": {},
   "outputs": [],
   "source": []
  }
 ],
 "metadata": {
  "kernelspec": {
   "display_name": "Python 3",
   "language": "python",
   "name": "python3"
  },
  "language_info": {
   "codemirror_mode": {
    "name": "ipython",
    "version": 3
   },
   "file_extension": ".py",
   "mimetype": "text/x-python",
   "name": "python",
   "nbconvert_exporter": "python",
   "pygments_lexer": "ipython3",
   "version": "3.8.8"
  }
 },
 "nbformat": 4,
 "nbformat_minor": 5
}
