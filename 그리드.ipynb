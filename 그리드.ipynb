{
 "cells": [
  {
   "cell_type": "markdown",
   "id": "f641f67d",
   "metadata": {},
   "source": [
    "## tree를 탐색\n",
    "1. 깊이 우선 탐색(depth-first-search) : 트리를 조회할 때 깊이를 기반하여 우선적으로 조회한다  \n",
    "<span style=\"color:red\">->하나의 노드에는 여러 개의 노드가 연결 되어 있는데 특정 노드의 한쪽 방향의 끝까지 먼저 검색한 후 다른 방향의 노드를 검색한다.</span>  \n",
    "2. 너비 우선 탐색(breadth-first-search) : 트리를 조회할 때 너비를 기반하여 우선적으로 조회한다  \n",
    "<span style=\"color:red\">->하나의 노등에는 여러 개의 노드가 연결 되어 있는데 특정 노드와 근접한 노드 부터 접근한다</span> "
   ]
  },
  {
   "cell_type": "markdown",
   "id": "ab18ab82",
   "metadata": {},
   "source": [
    "## Greedy, 탐욕 알고리즘\n",
    "### 최적에 가까운 값을 구하기 위한 방법\n",
    "### 여러 경우 중 선택을 할 때마다 매순간, 최적이라고 생각되는 경우를 선택하여 최종적인 값을 고름\n",
    "\n"
   ]
  },
  {
   "cell_type": "code",
   "execution_count": 10,
   "id": "fa73709a",
   "metadata": {},
   "outputs": [
    {
     "name": "stdout",
     "output_type": "stream",
     "text": [
      "[500, 100, 50, 10]\n",
      "1055\n"
     ]
    }
   ],
   "source": [
    "# 물건 값이 5480원\n",
    "# 지불해야하는 값을 동전으로 계산\n",
    "# 값이 가장 큰 동전을 최대한 지불하기\n",
    "# 내야하는 동전의 갯수(500원 : 8개)\n",
    "import random\n",
    "coin_list=[10,100,50,500]\n",
    "coin_list.sort(reverse=True) #내림차순 활성화\n",
    "print(coin_list)\n",
    "value=random.randrange(500,10000)\n",
    "print(value)"
   ]
  },
  {
   "cell_type": "code",
   "execution_count": 41,
   "id": "7deee93f",
   "metadata": {},
   "outputs": [],
   "source": [
    "def greedy_coin(value,coin_list):\n",
    "    total_coins=0\n",
    "    coin_list.sort(reverse=True)\n",
    "    num_list=[]\n",
    "    \n",
    "    for coin in coin_list:\n",
    "        coin_num=value//coin\n",
    "        total_coins+=coin_num\n",
    "        value-=(coin_num*coin)\n",
    "        num_list.append([coin,coin_num])\n",
    "    return total_coins, num_list"
   ]
  },
  {
   "cell_type": "code",
   "execution_count": 42,
   "id": "e526bbc9",
   "metadata": {},
   "outputs": [
    {
     "name": "stdout",
     "output_type": "stream",
     "text": [
      "7050\n"
     ]
    },
    {
     "data": {
      "text/plain": [
       "(15, [[500, 14], [100, 0], [50, 1], [10, 0]])"
      ]
     },
     "execution_count": 42,
     "metadata": {},
     "output_type": "execute_result"
    }
   ],
   "source": [
    "import random\n",
    "coin_list=[10,100,50,500]\n",
    "value=random.randrange(1000,10000)\n",
    "# greedy_coin(7370,coin_list)\n",
    "print(value)\n",
    "greedy_coin(value,coin_list)"
   ]
  },
  {
   "cell_type": "code",
   "execution_count": 30,
   "id": "1e1cf95b",
   "metadata": {},
   "outputs": [],
   "source": [
    "# 보물창고에서 무게 제한이 있는 배낭에 최대한 비싼 물건을 담아오기\n",
    "# 각 물건을 무게와, 가격을 우리는 알고 있음, 각 물건은 쪼갤 수 있음"
   ]
  },
  {
   "cell_type": "markdown",
   "id": "f0d1c667",
   "metadata": {},
   "source": [
    "|물건|물건1|물건2|물건3|물건4|물건5|\n",
    "|:---:|:---:|:---:|:---:|:---:|:---:|\n",
    "|무게|10|15|20|25|30|\n",
    "|가치|25|5|16|50|6|"
   ]
  },
  {
   "cell_type": "code",
   "execution_count": 55,
   "id": "9b618664",
   "metadata": {},
   "outputs": [],
   "source": [
    "t_list=[(10,25),(15,5),(20,16),(25,50),(30,6)]\n",
    "def get_max_value(t_list,bag_size):\n",
    "    #가치가 가장 높은 물건 순으로 정렬\n",
    "    t_list=sorted(t_list,key=lambda x: x[1]/x[0]) #가치 / 무게\n",
    "    value_count=0\n",
    "    value_list=[]\n",
    "    for treasure in t_list:\n",
    "        if bag_size-treasure[0]>=0: #가방에 남은 공간이 있으면\n",
    "            bag_size-=treasure[0]\n",
    "            value_count+=treasure[1]\n",
    "            value_list.append([treasure[0],treasure[1],1])\n",
    "        else: #가방에 공간이 없으면\n",
    "            fraction=bag_size/treasure[0]\n",
    "            value_count+=treasure[1]*fraction #남은 크기만큼 물건을 쪼개서 넣음\n",
    "            value_list.append([treasure[0],treasure[1],fraction])\n",
    "            break\n",
    "    return value_count,value_list"
   ]
  },
  {
   "cell_type": "code",
   "execution_count": 61,
   "id": "57eef545",
   "metadata": {},
   "outputs": [
    {
     "data": {
      "text/plain": [
       "(102, [[30, 6, 1], [15, 5, 1], [20, 16, 1], [25, 50, 1], [10, 25, 1]])"
      ]
     },
     "execution_count": 61,
     "metadata": {},
     "output_type": "execute_result"
    }
   ],
   "source": [
    "get_max_value(t_list,300)"
   ]
  },
  {
   "cell_type": "code",
   "execution_count": null,
   "id": "af03111a",
   "metadata": {},
   "outputs": [],
   "source": []
  },
  {
   "cell_type": "code",
   "execution_count": null,
   "id": "f2d3a334",
   "metadata": {},
   "outputs": [],
   "source": []
  },
  {
   "cell_type": "code",
   "execution_count": null,
   "id": "0b3cbaba",
   "metadata": {},
   "outputs": [],
   "source": []
  },
  {
   "cell_type": "code",
   "execution_count": null,
   "id": "5ef353c5",
   "metadata": {},
   "outputs": [],
   "source": []
  }
 ],
 "metadata": {
  "kernelspec": {
   "display_name": "Python 3",
   "language": "python",
   "name": "python3"
  },
  "language_info": {
   "codemirror_mode": {
    "name": "ipython",
    "version": 3
   },
   "file_extension": ".py",
   "mimetype": "text/x-python",
   "name": "python",
   "nbconvert_exporter": "python",
   "pygments_lexer": "ipython3",
   "version": "3.8.8"
  }
 },
 "nbformat": 4,
 "nbformat_minor": 5
}
